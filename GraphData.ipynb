{
 "cells": [
  {
   "cell_type": "code",
   "execution_count": 2,
   "metadata": {
    "scrolled": true
   },
   "outputs": [],
   "source": [
    "import sys\n",
    "import matplotlib.pyplot as plt"
   ]
  },
  {
   "cell_type": "code",
   "execution_count": 3,
   "metadata": {},
   "outputs": [],
   "source": [
    "# highly dependent on specific output format from data.sh\n",
    "# not at all flexible \n",
    "def parsedata(filename):\n",
    "    \n",
    "    # create list of tuple w/ coordinates for graph\n",
    "    f = open(filename, \"r\")\n",
    "    scale_vs_itercount, scale_vs_exectime = [], []\n",
    "    p1, p2 = [0.0, 0.0], [0.0, 0.0]\n",
    "    for line in f.readlines():\n",
    "        line = line.split()\n",
    "        if line[0] == \"SCALE:\":         # scale \n",
    "            p1[0] = float(line[1])\n",
    "            p2[0] = float(line[1])\n",
    "        if line[0].isnumeric():        # iteration count\n",
    "            p2[1] = float(line[0])\n",
    "        if line[0] == \"Average\":       # average execution time\n",
    "            p1[1] = float(line[2])\n",
    "            scale_vs_exectime.append(tuple(p1))\n",
    "            scale_vs_itercount.append(tuple(p2))\n",
    "    \n",
    "    f.close()\n",
    "    return scale_vs_exectime, scale_vs_itercount"
   ]
  },
  {
   "cell_type": "code",
   "execution_count": 4,
   "metadata": {},
   "outputs": [],
   "source": [
    "def graph(gs_et, gs_i, jc_et, jc_i):\n",
    "    # decompose into x and y coordinates\n",
    "    gsetX = [p[0] for p in gs_et]\n",
    "    gsetY = [p[1] for p in gs_et]\n",
    "    jcetX = [p[0] for p in jc_et]\n",
    "    jcetY = [p[1] for p in jc_et]\n",
    "    gsiX = [p[0] for p in gs_i]\n",
    "    gsiY = [p[1] for p in gs_i]\n",
    "    jciX = [p[0] for p in jc_i]\n",
    "    jciY = [p[1] for p in jc_i]\n",
    "    \n",
    "    \n",
    "    # two graphs, add scatter plots\n",
    "    figure, axis = plt.subplots(1, 2)\n",
    "    axis[0].scatter(gsetX, gsetY)\n",
    "    axis[0].scatter(jcetX, jcetY)\n",
    "    axis[0].set_title(\"Scale vs. Avg. Exec. Time\")\n",
    "    axis[1].scatter(gsiX, gsiY)\n",
    "    axis[1].scatter(jciX, jciY)\n",
    "    axis[1].set_title(\"Scale vs. Iteration Count\")\n",
    "    "
   ]
  },
  {
   "cell_type": "code",
   "execution_count": 16,
   "metadata": {},
   "outputs": [],
   "source": [
    "def calculate_speedup_ku(gs_et, gs_i, jc_et, jc_i):\n",
    "    # decompose into x and y coordinates\n",
    "    gsetX = [p[0] for p in gs_et]\n",
    "    gsetY = [p[1] for p in gs_et]\n",
    "    jcetX = [p[0] for p in jc_et]\n",
    "    jcetY = [p[1] for p in jc_et]\n",
    "    gsiX = [p[0] for p in gs_i]\n",
    "    gsiY = [p[1] for p in gs_i]\n",
    "    jciX = [p[0] for p in jc_i]\n",
    "    jciY = [p[1] for p in jc_i]\n",
    "    \n",
    "    # create new list with speedups \n",
    "    scale = [17,18,19,20,21,22,23,24,25,26,27,28]\n",
    "    et_speedup, it_speedup = [], []\n",
    "    for i in range(0, len(gs_et)):\n",
    "        et_speedup.append(jc_et[i][1] / gs_et[i][1])\n",
    "        it_speedup.append(jc_i[i][1] / gs_i[i][1])\n",
    "    fig1, fig2 = plt.figure(), plt.figure()\n",
    "    ax1, ax2 = fig1.add_axes([0,0,1,1]), fig2.add_axes([0,0,1,1])\n",
    "\n",
    "    ax1.bar(scale,et_speedup)\n",
    "    ax1.set_title(\"Execution Time Speedup (Old / New)\")\n",
    "    ax2.bar(scale,it_speedup)\n",
    "    ax2.set_title(\"Old Iter Count / New Iter Count\")\n",
    "    plt.show()\n",
    "    "
   ]
  },
  {
   "cell_type": "code",
   "execution_count": 12,
   "metadata": {},
   "outputs": [],
   "source": [
    "def calculate_speedup_rw(gs_et, gs_i, jc_et, jc_i):\n",
    "    # decompose into x and y coordinates\n",
    "    gsetX = [p[0] for p in gs_et]\n",
    "    gsetY = [p[1] for p in gs_et]\n",
    "    jcetX = [p[0] for p in jc_et]\n",
    "    jcetY = [p[1] for p in jc_et]\n",
    "    gsiX = [p[0] for p in gs_i]\n",
    "    gsiY = [p[1] for p in gs_i]\n",
    "    jciX = [p[0] for p in jc_i]\n",
    "    jciY = [p[1] for p in jc_i]\n",
    "    \n",
    "    \n",
    "    et_speedup, it_speedup = [], []\n",
    "    for i in range(0, len(gs_et)):\n",
    "        et_speedup.append(jc_et[i][1] / gs_et[i][1])\n",
    "        it_speedup.append(jc_i[i][1] / gs_i[i][1])\n",
    "    \n",
    "    graphlabels = ['Road', 'Twitter', 'Web']\n",
    "    fig1, fig2 = plt.figure(), plt.figure()\n",
    "    ax1, ax2 = fig1.add_axes([0,0,1,1]), fig2.add_axes([0,0,1,1])\n",
    "\n",
    "    ax1.bar(graphlabels, et_speedup)\n",
    "    ax1.set_title(\"Execution Time Speedup (Old / New)  RW Graphs\")\n",
    "    ax2.bar(graphlabels,it_speedup)\n",
    "    ax2.set_title(\"Old Iter Count / New Iter Count RW Graphs\")\n",
    "    plt.show()\n",
    "    "
   ]
  },
  {
   "cell_type": "code",
   "execution_count": 20,
   "metadata": {},
   "outputs": [
    {
     "data": {
      "image/png": "[encoded data removed]",
      "text/plain": [
       "<Figure size 432x288 with 1 Axes>"
      ]
     },
     "metadata": {
      "needs_background": "light"
     },
     "output_type": "display_data"
    },
    {
     "data": {
      "image/png": "[encoded data removed]",
      "text/plain": [
       "<Figure size 432x288 with 1 Axes>"
      ]
     },
     "metadata": {
      "needs_background": "light"
     },
     "output_type": "display_data"
    },
    {
     "data": {
      "image/png": "[encoded data removed]",
      "text/plain": [
       "<Figure size 432x288 with 1 Axes>"
      ]
     },
     "metadata": {
      "needs_background": "light"
     },
     "output_type": "display_data"
    },
    {
     "data": {
      "image/png": "[encoded data removed]",
      "text/plain": [
       "<Figure size 432x288 with 1 Axes>"
      ]
     },
     "metadata": {
      "needs_background": "light"
     },
     "output_type": "display_data"
    }
   ],
   "source": [
    "def main():\n",
    "    \n",
    "    # Kron/Urand\n",
    "    #gs_kr_et, gs_kr_i = parsedata(\"output/run.sh-results/GS-kron-24.out\")\n",
    "    #jc_kr_et, jc_kr_i = parsedata(\"output/run.sh-results/J-kron-24.out\")\n",
    "    gs_ur_et, gs_ur_i = parsedata(\"output/run.sh-results/GS-urand-24.out\")\n",
    "    jc_ur_et, jc_ur_i = parsedata(\"output/run.sh-results/J-urand-24.out\")\n",
    "    \n",
    "    # Realworld Graphs (in the order: road, twitter, web)\n",
    "    gs_rw_et, gs_rw_i = parsedata(\"output/run.sh-results/GS-rwg-24.out\")\n",
    "    jc_rw_et, jc_rw_i = parsedata(\"output/run.sh-results/J-rwg-24.out\")\n",
    "    \n",
    "    \n",
    "    # graph Kron/Urand data\n",
    "    #graph(gs_et, gs_i, jc_et, jc_i)\n",
    "    #calculate_speedup_ku(gs_kr_et, gs_kr_i, jc_kr_et, jc_kr_i)\n",
    "    calculate_speedup_ku(gs_ur_et, gs_ur_i, jc_ur_et, jc_ur_i)\n",
    "\n",
    "    # graph Real World Graph data\n",
    "    calculate_speedup_rw(gs_rw_et, gs_rw_i, jc_rw_et, jc_rw_i)\n",
    "    \n",
    "    \n",
    "if __name__ == \"__main__\":\n",
    "    main()"
   ]
  },
  {
   "cell_type": "code",
   "execution_count": null,
   "metadata": {},
   "outputs": [],
   "source": []
  }
 ],
 "metadata": {
  "kernelspec": {
   "display_name": "Python 3",
   "language": "python",
   "name": "python3"
  },
  "language_info": {
   "codemirror_mode": {
    "name": "ipython",
    "version": 3
   },
   "file_extension": ".py",
   "mimetype": "text/x-python",
   "name": "python",
   "nbconvert_exporter": "python",
   "pygments_lexer": "ipython3",
   "version": "3.8.5"
  }
 },
 "nbformat": 4,
 "nbformat_minor": 4
}
