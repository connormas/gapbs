{
 "cells": [
  {
   "cell_type": "code",
   "execution_count": 91,
   "metadata": {},
   "outputs": [
    {
     "ename": "ModuleNotFoundError",
     "evalue": "No module named 'matplotlib'",
     "output_type": "error",
     "traceback": [
      "\u001b[0;31m---------------------------------------------------------------------------\u001b[0m",
      "\u001b[0;31mModuleNotFoundError\u001b[0m                       Traceback (most recent call last)",
      "\u001b[0;32m<ipython-input-91-f69cb6e12ace>\u001b[0m in \u001b[0;36m<module>\u001b[0;34m\u001b[0m\n\u001b[1;32m      1\u001b[0m \u001b[0;32mimport\u001b[0m \u001b[0msys\u001b[0m\u001b[0;34m\u001b[0m\u001b[0;34m\u001b[0m\u001b[0m\n\u001b[0;32m----> 2\u001b[0;31m \u001b[0;32mimport\u001b[0m \u001b[0mmatplotlib\u001b[0m\u001b[0;34m\u001b[0m\u001b[0;34m\u001b[0m\u001b[0m\n\u001b[0m",
      "\u001b[0;31mModuleNotFoundError\u001b[0m: No module named 'matplotlib'"
     ]
    }
   ],
   "source": [
    "import sys\n",
    "import matplotlib"
   ]
  },
  {
   "cell_type": "code",
   "execution_count": 92,
   "metadata": {},
   "outputs": [],
   "source": [
    "# highly dependent on specific output format from data.sh\n",
    "# not at all flexible \n",
    "def parsedata(filename):\n",
    "    \n",
    "    # create list of tuple w/ coordinates for graph\n",
    "    f = open(filename, \"r\")\n",
    "    coordinates = []\n",
    "    point = [0.0, 0.0]\n",
    "    for line in f.readlines():\n",
    "        line = line.split()\n",
    "        #if line[0] == \"SCALE\":        # scale \n",
    "        #    point[0] = float(line[1])\n",
    "        if line[0].isnumeric():        # iteration count\n",
    "            point[0] = float(line[0])\n",
    "        elif line[0] == \"Average\":     # average execution time\n",
    "            point[1] = float(line[2])\n",
    "            coordinates.append(tuple(point))\n",
    "    \n",
    "    f.close()\n",
    "\n",
    "    print(\"iter, Avg. Time\")\n",
    "    for t in coordinates:\n",
    "        print(t)\n",
    "    \n",
    "    return coordinates"
   ]
  },
  {
   "cell_type": "code",
   "execution_count": null,
   "metadata": {},
   "outputs": [],
   "source": [
    "def graph(data):\n",
    "    pass\n",
    "    # matplotlib?"
   ]
  },
  {
   "cell_type": "code",
   "execution_count": 93,
   "metadata": {},
   "outputs": [
    {
     "name": "stdout",
     "output_type": "stream",
     "text": [
      "iter, Avg. Time\n",
      "(16.0, 0.00626)\n",
      "(13.0, 0.0065)\n",
      "(11.0, 0.01348)\n",
      "(12.0, 0.03161)\n",
      "(11.0, 0.07203)\n",
      "(6.0, 0.09919)\n",
      "(5.0, 0.1946)\n",
      "(5.0, 0.47223)\n",
      "(4.0, 1.01893)\n",
      "(4.0, 2.70616)\n",
      "(4.0, 8.26872)\n",
      "iter, Avg. Time\n",
      "(7.0, 0.00244)\n",
      "(7.0, 0.00409)\n",
      "(7.0, 0.00893)\n",
      "(7.0, 0.02346)\n",
      "(6.0, 0.04615)\n",
      "(6.0, 0.12508)\n",
      "(6.0, 0.22815)\n",
      "(6.0, 0.54932)\n",
      "(6.0, 3.38666)\n",
      "(6.0, 5.01225)\n",
      "(6.0, 17.09382)\n"
     ]
    }
   ],
   "source": [
    "def main():\n",
    "    \n",
    "    # pass output text from data.sh script to parsedata()\n",
    "    gs_data = parsedata(\"18-27/gaussseidellPARALLEL.txt\")\n",
    "    jc_data = parsedata(\"18-27/jacobiPARALLEL.txt\")\n",
    "\n",
    "    \n",
    "if __name__ == \"__main__\":\n",
    "    main()"
   ]
  }
 ],
 "metadata": {
  "kernelspec": {
   "display_name": "Python 3",
   "language": "python",
   "name": "python3"
  },
  "language_info": {
   "codemirror_mode": {
    "name": "ipython",
    "version": 3
   },
   "file_extension": ".py",
   "mimetype": "text/x-python",
   "name": "python",
   "nbconvert_exporter": "python",
   "pygments_lexer": "ipython3",
   "version": "3.8.5"
  }
 },
 "nbformat": 4,
 "nbformat_minor": 4
}
