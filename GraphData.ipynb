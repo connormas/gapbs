{
 "cells": [
  {
   "cell_type": "code",
   "execution_count": 1,
   "metadata": {
    "scrolled": true
   },
   "outputs": [],
   "source": [
    "import sys\n",
    "import matplotlib.pyplot as plt"
   ]
  },
  {
   "cell_type": "code",
   "execution_count": 2,
   "metadata": {},
   "outputs": [],
   "source": [
    "# highly dependent on specific output format from data.sh\n",
    "# not at all flexible \n",
    "def parsedata(filename):\n",
    "    \n",
    "    # create list of tuple w/ coordinates for graph\n",
    "    f = open(filename, \"r\")\n",
    "    scale_vs_itercount, scale_vs_exectime = [], []\n",
    "    p1, p2 = [0.0, 0.0], [0.0, 0.0]\n",
    "    for line in f.readlines():\n",
    "        line = line.split()\n",
    "        if line[0] == \"SCALE:\":         # scale \n",
    "            p1[0] = float(line[1])\n",
    "            p2[0] = float(line[1])\n",
    "        if line[0].isnumeric():        # iteration count\n",
    "            p2[1] = float(line[0])\n",
    "        if line[0] == \"Average\":       # average execution time\n",
    "            p1[1] = float(line[2])\n",
    "            scale_vs_exectime.append(tuple(p1))\n",
    "            scale_vs_itercount.append(tuple(p2))\n",
    "    \n",
    "    f.close()\n",
    "    return scale_vs_exectime, scale_vs_itercount"
   ]
  },
  {
   "cell_type": "code",
   "execution_count": 3,
   "metadata": {},
   "outputs": [],
   "source": [
    "def graph(gs_et, gs_i, jc_et, jc_i):\n",
    "    # decompose into x and y coordinates\n",
    "    gsetX = [p[0] for p in gs_et]\n",
    "    gsetY = [p[1] for p in gs_et]\n",
    "    jcetX = [p[0] for p in jc_et]\n",
    "    jcetY = [p[1] for p in jc_et]\n",
    "    gsiX = [p[0] for p in gs_i]\n",
    "    gsiY = [p[1] for p in gs_i]\n",
    "    jciX = [p[0] for p in jc_i]\n",
    "    jciY = [p[1] for p in jc_i]\n",
    "    \n",
    "    \n",
    "    # two graphs, add scatter plots\n",
    "    figure, axis = plt.subplots(1, 2)\n",
    "    axis[0].scatter(gsetX, gsetY)\n",
    "    axis[0].scatter(jcetX, jcetY)\n",
    "    axis[0].set_title(\"Scale vs. Avg. Exec. Time\")\n",
    "    axis[1].scatter(gsiX, gsiY)\n",
    "    axis[1].scatter(jciX, jciY)\n",
    "    axis[1].set_title(\"Scale vs. Iteration Count\")\n",
    "    "
   ]
  },
  {
   "cell_type": "code",
   "execution_count": 7,
   "metadata": {},
   "outputs": [
    {
     "data": {
      "image/png": "[encoded data removed]",
      "text/plain": [
       "<Figure size 432x288 with 2 Axes>"
      ]
     },
     "metadata": {
      "needs_background": "light"
     },
     "output_type": "display_data"
    }
   ],
   "source": [
    "def main():\n",
    "    \n",
    "    # pass output text from data.sh script to parsedata()\n",
    "    #gs_et, gs_i = parsedata(\"output/run.sh-results/GS-kron-24.out\")\n",
    "    #jc_et, jc_i = parsedata(\"output/run.sh-results/J-kron-24.out\")\n",
    "    gs_et, gs_i = parsedata(\"output/run.sh-results/GS-urand-24.out\")\n",
    "    jc_et, jc_i = parsedata(\"output/run.sh-results/J-urand-24.out\")\n",
    "    \n",
    "    # pass data to graph() function\n",
    "    graph(gs_et, gs_i, jc_et, jc_i)\n",
    "\n",
    "    \n",
    "if __name__ == \"__main__\":\n",
    "    main()"
   ]
  }
 ],
 "metadata": {
  "kernelspec": {
   "display_name": "Python 3",
   "language": "python",
   "name": "python3"
  },
  "language_info": {
   "codemirror_mode": {
    "name": "ipython",
    "version": 3
   },
   "file_extension": ".py",
   "mimetype": "text/x-python",
   "name": "python",
   "nbconvert_exporter": "python",
   "pygments_lexer": "ipython3",
   "version": "3.8.5"
  }
 },
 "nbformat": 4,
 "nbformat_minor": 4
}
